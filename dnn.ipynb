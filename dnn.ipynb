{
 "cells": [
  {
   "cell_type": "code",
   "execution_count": 1,
   "metadata": {},
   "outputs": [],
   "source": [
    "import tensorflow as tf\n",
    "from keras.preprocessing.image import ImageDataGenerator\n",
    "import matplotlib.pyplot as plt \n",
    "from pathlib import Path\n",
    "from keras.models import Sequential \n",
    "from keras.layers import Flatten, Dense "
   ]
  },
  {
   "cell_type": "code",
   "execution_count": 2,
   "metadata": {},
   "outputs": [],
   "source": [
    "from tensorflow.python.client import device_lib\n",
    "assert 'GPU' in str(device_lib.list_local_devices())"
   ]
  },
  {
   "cell_type": "code",
   "execution_count": 3,
   "metadata": {},
   "outputs": [],
   "source": [
    "data_dir = Path(\"data/sets/6_999x999/\")"
   ]
  },
  {
   "cell_type": "code",
   "execution_count": null,
   "metadata": {},
   "outputs": [],
   "source": [
    "# Rescaling the RGB channels to 0-1\n",
    "data_gen_kwargs = {\"rescale\":1/255}\n",
    "train_datagen = ImageDataGenerator(**data_gen_kwargs)\n",
    "validation_datagen = ImageDataGenerator(**data_gen_kwargs)\n",
    "test_datagen = ImageDataGenerator(**data_gen_kwargs)\n",
    "\n",
    "img_width, img_height = 512, 512\n",
    "\n",
    "dataset_kwargs = {\"class_mode\": \"binary\", \"target_size\": (img_width, img_height), \"color_mode\": \"grayscale\", \"batch_size\": 100, \"seed\":1337}\n",
    "\n",
    "train_generator = train_datagen.flow_from_directory(\n",
    "        data_dir / \"train\",\n",
    "        **dataset_kwargs,)\n",
    "\n",
    "validation_generator = validation_datagen.flow_from_directory(\n",
    "        data_dir / \"validation\",\n",
    "        **dataset_kwargs)\n",
    "\n",
    "test_generator = validation_datagen.flow_from_directory(\n",
    "        data_dir / \"test\",\n",
    "        **dataset_kwargs)"
   ]
  },
  {
   "cell_type": "code",
   "execution_count": 5,
   "metadata": {},
   "outputs": [],
   "source": [
    "model = Sequential([\n",
    "    Flatten(input_shape = (img_width, img_height, 1)), \n",
    "    Dense(64, activation=tf.nn.relu),\n",
    "    Dense(128, activation=tf.nn.relu), \n",
    "    Dense(64, activation=tf.nn.relu),\n",
    "    Dense(1, activation=tf.nn.sigmoid)\n",
    "    ])"
   ]
  },
  {
   "cell_type": "code",
   "execution_count": null,
   "metadata": {},
   "outputs": [],
   "source": [
    "model.summary()"
   ]
  },
  {
   "cell_type": "code",
   "execution_count": 7,
   "metadata": {},
   "outputs": [],
   "source": [
    "model.compile(optimizer = tf.optimizers.Adam(),\n",
    "              loss = 'binary_crossentropy',\n",
    "              metrics=['binary_accuracy', \"accuracy\"])"
   ]
  },
  {
   "cell_type": "code",
   "execution_count": null,
   "metadata": {},
   "outputs": [],
   "source": [
    "history = model.fit(train_generator,\n",
    "      epochs=50,\n",
    "      verbose=1,\n",
    "      validation_data = validation_generator,\n",
    "      )"
   ]
  },
  {
   "cell_type": "code",
   "execution_count": null,
   "metadata": {},
   "outputs": [],
   "source": [
    "# Result of training with validation\n",
    "plt.plot(history.history['accuracy'], label='accuracy')\n",
    "plt.plot(history.history['val_accuracy'], label = 'val_accuracy')\n",
    "plt.xlabel('Epoch')\n",
    "plt.ylabel('Accuracy')\n",
    "plt.legend(loc='upper right')\n",
    "# plt.savefig(\"512x512_GRAY_batch_100_epoch_50.pdf\")"
   ]
  },
  {
   "cell_type": "code",
   "execution_count": null,
   "metadata": {},
   "outputs": [],
   "source": [
    "\n",
    "# Training and validation Loss plot\n",
    "plt.plot(history.history['loss'], label='loss')\n",
    "plt.plot(history.history['val_loss'], label = 'val_loss')\n",
    "plt.xlabel('Epoch')\n",
    "plt.ylabel('loss')\n",
    "plt.legend(loc='upper right')\n",
    "# plt.savefig(\"512x512_GRAY_batch_100_epoch_50_loss.pdf\")"
   ]
  },
  {
   "cell_type": "code",
   "execution_count": null,
   "metadata": {},
   "outputs": [],
   "source": [
    "# Test the model\n",
    "test_loss, test_acc, test_acc2 = model.evaluate(test_generator, verbose=2)\n",
    "print(test_loss, test_acc, test_acc2)"
   ]
  },
  {
   "cell_type": "markdown",
   "metadata": {},
   "source": [
    "# Dense NN v2"
   ]
  },
  {
   "cell_type": "code",
   "execution_count": 5,
   "metadata": {},
   "outputs": [],
   "source": [
    "model_2 = Sequential([\n",
    "    Flatten(input_shape = (img_width, img_height, 1)), \n",
    "    Dense(512, activation=tf.nn.relu),\n",
    "    Dense(256, activation=tf.nn.relu), \n",
    "    Dense(128, activation=tf.nn.relu),\n",
    "    Dense(64, activation=tf.nn.relu),\n",
    "    Dense(1, activation=tf.nn.sigmoid)])"
   ]
  },
  {
   "cell_type": "code",
   "execution_count": 6,
   "metadata": {},
   "outputs": [],
   "source": [
    "model_2.compile(optimizer = tf.optimizers.Adam(),\n",
    "              loss = 'binary_crossentropy',\n",
    "              metrics=['binary_accuracy', \"accuracy\"])"
   ]
  },
  {
   "cell_type": "code",
   "execution_count": null,
   "metadata": {},
   "outputs": [],
   "source": [
    "history_2 = model_2.fit(train_generator,\n",
    "      epochs=10,\n",
    "      verbose=1,\n",
    "      validation_data = validation_generator,\n",
    "      )"
   ]
  },
  {
   "cell_type": "code",
   "execution_count": null,
   "metadata": {},
   "outputs": [],
   "source": [
    "# Result of training with validation\n",
    "plt.plot(history_2.history['accuracy'], label='accuracy')\n",
    "plt.plot(history_2.history['val_accuracy'], label = 'val_accuracy')\n",
    "plt.xlabel('Epoch')\n",
    "plt.ylabel('Accuracy')\n",
    "plt.legend(loc='upper left')\n",
    "plt.plot()\n",
    "# plt.savefig(f\"{model_name}.pdf\")"
   ]
  }
 ],
 "metadata": {
  "interpreter": {
   "hash": "31c2e972fa16ff976f896b2a5433e2babd20ca9008e79c69197c67fce3431422"
  },
  "kernelspec": {
   "display_name": "Python 3.8.3 64-bit ('malis_project': venv)",
   "language": "python",
   "name": "python3"
  },
  "language_info": {
   "codemirror_mode": {
    "name": "ipython",
    "version": 3
   },
   "file_extension": ".py",
   "mimetype": "text/x-python",
   "name": "python",
   "nbconvert_exporter": "python",
   "pygments_lexer": "ipython3",
   "version": "3.8.3"
  },
  "orig_nbformat": 4
 },
 "nbformat": 4,
 "nbformat_minor": 2
}
